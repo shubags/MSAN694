{
 "cells": [
  {
   "cell_type": "markdown",
   "metadata": {},
   "source": [
    "This is an example of how to use the Cassandra Python driver to read data, parse and store into a Cassandra DB"
   ]
  },
  {
   "cell_type": "code",
   "execution_count": null,
   "metadata": {
    "collapsed": true
   },
   "outputs": [],
   "source": [
    "from cassandra.cluster import Cluster\n",
    "\n",
    "cluster = Cluster()\n",
    "session = cluster.connect('openpayments')"
   ]
  },
  {
   "cell_type": "code",
   "execution_count": 24,
   "metadata": {
    "collapsed": false
   },
   "outputs": [],
   "source": [
    "# NOTE: this will drop the table and remove any data\n",
    "session.execute(\"DROP TABLE payments\")"
   ]
  },
  {
   "cell_type": "code",
   "execution_count": 25,
   "metadata": {
    "collapsed": false
   },
   "outputs": [],
   "source": [
    "session.execute(\"\"\"\n",
    "  create table payments (\n",
    "    General_Transaction_ID TEXT PRIMARY KEY, \n",
    "    Teaching_Hospital_ID TEXT, \n",
    "    Teaching_Hospital_Name TEXT, \n",
    "    Physician_Profile_ID TEXT, \n",
    "    Physician_First_Name TEXT, \n",
    "    Physician_Middle_Name TEXT, \n",
    "    Physician_Last_Name TEXT, \n",
    "    Recipient_Zip_Code TEXT, \n",
    "    Product_Indicator TEXT, \n",
    "    Name_of_Associated_Covered_Drug_or_Biological1 TEXT, \n",
    "    Name_of_Associated_Covered_Device_or_Medical_Supply1 TEXT, \n",
    "    Applicable_Manufacturer_or_Applicable_GPO_Making_Payment_Name TEXT, \n",
    "    Applicable_Manufacturer_or_Applicable_GPO_Making_Payment_ID TEXT, \n",
    "    Total_Amount_of_Payment_USDollars TEXT, \n",
    "    Date_of_Payment TEXT);\n",
    " \"\"\")"
   ]
  },
  {
   "cell_type": "markdown",
   "metadata": {},
   "source": [
    "We will now need to process the data, one row at a time, parse the record, extract the fields and insert into the `payments` table (note: at this stage, we would probably do some transformations, eg, convert the USD to floats and the dates to timestamps).\n",
    "\n",
    "The mapping from ordinal in the CSV to column name is as follows:\n",
    "\n",
    "    0: General_Transaction_ID, \n",
    "    5: Teaching_Hospital_ID, \n",
    "    6: Teaching_Hospital_Name, \n",
    "    7: Physician_Profile_ID, \n",
    "    8: Physician_First_Name, \n",
    "    9: Physician_Middle_Name, \n",
    "    10: Physician_Last_Name, \n",
    "    16: Recipient_Zip_Code, \n",
    "    27: Product_Indicator, \n",
    "    28: Name_of_Associated_Covered_Drug_or_Biological1, \n",
    "    38: Name_of_Associated_Covered_Device_or_Medical_Supply1, \n",
    "    43: Applicable_Manufacturer_or_Applicable_GPO_Making_Payment_Name, \n",
    "    44: Applicable_Manufacturer_or_Applicable_GPO_Making_Payment_ID, \n",
    "    48: Total_Amount_of_Payment_USDollars, \n",
    "    49: Date_of_Payment, \n",
    "\n",
    "We will use the `csv` library to correctly parse the data."
   ]
  },
  {
   "cell_type": "code",
   "execution_count": 26,
   "metadata": {
    "collapsed": true
   },
   "outputs": [],
   "source": [
    "fields_mapping = {\n",
    "    0: \"General_Transaction_ID\", \n",
    "    5: \"Teaching_Hospital_ID\", \n",
    "    6: \"Teaching_Hospital_Name\", \n",
    "    7: \"Physician_Profile_ID\", \n",
    "    8: \"Physician_First_Name\", \n",
    "    9: \"Physician_Middle_Name\", \n",
    "    10: \"Physician_Last_Name\", \n",
    "    16: \"Recipient_Zip_Code\", \n",
    "    27: \"Product_Indicator\", \n",
    "    28: \"Name_of_Associated_Covered_Drug_or_Biological1\", \n",
    "    38: \"Name_of_Associated_Covered_Device_or_Medical_Supply1\", \n",
    "    43: \"Applicable_Manufacturer_or_Applicable_GPO_Making_Payment_Name\", \n",
    "    44: \"Applicable_Manufacturer_or_Applicable_GPO_Making_Payment_ID\", \n",
    "    48: \"Total_Amount_of_Payment_USDollars\", \n",
    "    49: \"Date_of_Payment\"\n",
    "}"
   ]
  },
  {
   "cell_type": "code",
   "execution_count": 34,
   "metadata": {
    "collapsed": false
   },
   "outputs": [],
   "source": [
    "def build_query(record):\n",
    "    query = 'INSERT INTO payments ('\n",
    "    values = ''\n",
    "    for col_name, col_value in record.iteritems():\n",
    "        query += col_name + ', '\n",
    "        values += \"'\" + str(col_value).replace(\"'\", \"\") + \"', \"\n",
    "    query = query[:-2]\n",
    "    values = values[:-2]\n",
    "    return query + \") VALUES (\" + values + \");\"\n"
   ]
  },
  {
   "cell_type": "code",
   "execution_count": 35,
   "metadata": {
    "collapsed": false
   },
   "outputs": [
    {
     "name": "stdout",
     "output_type": "stream",
     "text": [
      "Saved 4812 records\n"
     ]
    }
   ],
   "source": [
    "import csv\n",
    "from __future__ import print_function\n",
    "\n",
    "data_file = '/Users/marco/Development/MSAN694/cassandra/cassandra-demo.csv'\n",
    "count = 0\n",
    "with open(data_file) as payments:\n",
    "    for record in csv.reader(payments):\n",
    "        if len(record) < 49:\n",
    "            continue\n",
    "        record_data = dict()\n",
    "        for field_id, field_name in fields_mapping.iteritems():\n",
    "            \n",
    "            record_data[field_name] = record[field_id]\n",
    "        query = build_query(record_data)\n",
    "        try:\n",
    "            session.execute(query)\n",
    "            count += 1\n",
    "        except Exception as ex:\n",
    "            print(\"Error occurred while executing {query} near or at row [{line}]: {error}\".format(\n",
    "                    query=query, error=ex, line=count+1))\n",
    "            # ignore and continue\n",
    "print(\"Saved {} records\".format(count));\n",
    "        \n",
    "        "
   ]
  },
  {
   "cell_type": "markdown",
   "metadata": {
    "collapsed": true
   },
   "source": [
    "From the saved records we can extract useful info: for example, how about running a reduce() on the payments?"
   ]
  },
  {
   "cell_type": "code",
   "execution_count": 36,
   "metadata": {
    "collapsed": false
   },
   "outputs": [],
   "source": [
    "query = \"SELECT teaching_hospital_id, teaching_hospital_name, total_amount_of_payment_usdollars FROM payments\"\n",
    "resultset = session.execute(query)\n",
    "redux = {}\n",
    "for result in resultset:\n",
    "    if result.teaching_hospital_id:\n",
    "        acc = 0.0\n",
    "        if result.teaching_hospital_name in redux:\n",
    "            acc = redux[result.teaching_hospital_name]\n",
    "        acc += float(result.total_amount_of_payment_usdollars)\n",
    "        redux[result.teaching_hospital_name] = acc\n"
   ]
  },
  {
   "cell_type": "code",
   "execution_count": 37,
   "metadata": {
    "collapsed": false
   },
   "outputs": [
    {
     "name": "stdout",
     "output_type": "stream",
     "text": [
      "Hospital                                                                 USD ($)\n",
      "--------                                                                 -------\n",
      "Scripps Health                                                          20000.00\n",
      "University Of Arkansas For Medical Sciences                             92514.00\n",
      "University Of California Irvine                                          1374.25\n",
      "St. LukeS Episcopal Hospital                                               42.48\n",
      "Adventist Health System-Sunbelt Inc                                       289.49\n",
      "Christiana Care Health Services Inc                                        71.30\n",
      "Ohio Valley Medical Center                                               2856.00\n",
      "Lester E Cox Medical Centers                                                0.02\n",
      "County Of Los Angeles Auditor Controller                                  323.86\n",
      "University Medical Center Of Southern Nevada                             1031.32\n",
      "ChildrenS Hospital Of Pittsburgh Of The Upmc Health System                425.00\n",
      "The Moses H. Cone Memorial Hospital Operating Corporation                1500.00\n",
      "Cedars-Sinai Medical Center                                               952.06\n",
      "University Of Kentucky                                                      2.45\n",
      "Niagara Falls Memorial Medical Center                                      20.53\n",
      "University Medical Center Corporation                                      47.83\n",
      "Gundersen Lutheran Medical Center, Inc.                                    56.64\n",
      "The New York And Presbyterian Hospital                                     86.08\n",
      "The Methodist Hospital                                                   2387.60\n",
      "ChildrenS Hospital Medical Center                                          44.85\n",
      "University Of Texas Health Science Center At Houston                       90.11\n",
      "University Of Colorado Hospital Authority                                 614.46\n",
      "Robert Wood Johnson University Hospital, Inc                             7500.00\n",
      "Sisters Of Charity Hospital Of Buffalo New York                           585.00\n",
      "MAYO CLINIC ARIZONA                                                       500.00\n"
     ]
    }
   ],
   "source": [
    "print(\"{:60}{:>20}\".format('Hospital', 'USD ($)'))\n",
    "print(\"{:60}{:>20}\".format('--------', '-------'))\n",
    "for name, value in redux.items():\n",
    "    print(\"{:60}{:20.2f}\".format(name, value))"
   ]
  },
  {
   "cell_type": "code",
   "execution_count": null,
   "metadata": {
    "collapsed": true
   },
   "outputs": [],
   "source": []
  }
 ],
 "metadata": {
  "kernelspec": {
   "display_name": "Python 2",
   "language": "python",
   "name": "python2"
  },
  "language_info": {
   "codemirror_mode": {
    "name": "ipython",
    "version": 2
   },
   "file_extension": ".py",
   "mimetype": "text/x-python",
   "name": "python",
   "nbconvert_exporter": "python",
   "pygments_lexer": "ipython2",
   "version": "2.7.6"
  }
 },
 "nbformat": 4,
 "nbformat_minor": 0
}
